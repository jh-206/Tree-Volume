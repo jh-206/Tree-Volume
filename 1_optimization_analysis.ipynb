{
 "cells": [
  {
   "cell_type": "code",
   "execution_count": null,
   "id": "b96baf42-a11e-424c-9df8-233b68690efb",
   "metadata": {},
   "outputs": [],
   "source": [
    "import pandas as pd\n",
    "import numpy as np\n",
    "import cvxpy as cp"
   ]
  },
  {
   "cell_type": "markdown",
   "id": "e56d7814-431f-4afb-8cf0-dc9a83b66563",
   "metadata": {},
   "source": [
    "# Modeling Trees as Truncated Cones using Convex Optmization\n",
    "\n",
    "The purpose of this notebook is to fit the truncated cone model introduced in the previous notebook using convex optimization. "
   ]
  },
  {
   "cell_type": "markdown",
   "id": "52c88d2a-eb62-4131-9d34-701e55463577",
   "metadata": {},
   "source": [
    "## Model Formulation\n",
    "\n",
    "$$\n",
    "V = \\frac{1}{3}\\pi (r_1^2+r_1r_2+r_2^2)h\n",
    "$$\n",
    "\n",
    "Where $V$ is the observed volume of the tree and $h$ is the observed height. Then, $r_1$ and $r_2$ are the radii of the base and top of the cone, respectively.\n",
    "\n",
    "We will consider the upper radius to be a fraction of the lower radius. So, we introduce a parameter $\\alpha$ where $r_2 = \\alpha r_1, \\text{ for }\\alpha \\in (0,1)$. We will use a grid search to find an alpha that minimizes the fitted sum of squares. Let the lower tree radius be $r$ and the upper be $r_2$. Since $r_2 = \\alpha r$, we can write the volume as:\n",
    "\n",
    "$$\n",
    "V = \\frac{1}{3}\\cdot h\\cdot\\pi\\cdot r^2(1+\\alpha+\\alpha^2), \\;\\alpha\\in(0,1)\n",
    "$$\n",
    "\n",
    "Formulating this as an optimization problem, we seek to minimize the sum of squares of the residuals.\n",
    "\n",
    "\\begin{align}\n",
    "    \\min &\\sum_{i=1}^N \\left(V_i - \\frac{h_i}{3}\\pi r_i^2(1+\\alpha+\\alpha^2)\\right)^2\\\\\n",
    "    \\text{s.t. }&\\alpha\\in[0,1]\n",
    "\\end{align}"
   ]
  },
  {
   "cell_type": "markdown",
   "id": "a38042a7-2e5d-45e8-a4e0-9d73e1e11efc",
   "metadata": {},
   "source": [
    "Observed constants radius ($R_i$), height ($h_i$), and volume ($V_i$), for $i=1, ..., N$.\n",
    "\n",
    "We want to minimize the sum of squared residuals, so our loss function is:\n",
    "\n",
    "$$\n",
    "\\begin{align}\n",
    "    \\min &\\sum_{i=1}^N \\left(V_i - \\frac{h_i}{3}\\pi R_i^2(1+\\alpha+\\alpha^2)\\right)^2\\\\\n",
    "    \\text{s.t. }&\\alpha\\in[0,1]\n",
    "\\end{align}\n",
    "$$"
   ]
  },
  {
   "cell_type": "markdown",
   "id": "c20a764f-8065-41a7-856f-c73086c67857",
   "metadata": {},
   "source": [
    "To represent this in matrix notation, Let $V=\\begin{pmatrix}V_1 \\\\ V_2 \\\\ \\vdots \\\\ V_N\\end{pmatrix}$ and $hr^2 = \\begin{pmatrix}h_1r_1^2 \\\\ h_2r_2^2 \\\\ \\vdots \\\\ h_Nr_N^2\\end{pmatrix}$\n",
    "\n",
    "Putting this all together, we have:\n",
    "\n",
    "$$\n",
    "\\begin{align}\n",
    "    \\min &\\|V - \\frac{h}{3}\\pi r^2(1+\\alpha+\\alpha^2)\\|_2^2 \\\\\n",
    "    \\text{s.t. }&0\\leq\\alpha\\leq 1\n",
    "\\end{align}\n",
    "$$\n",
    "\n",
    "Solutions $\\alpha\\in \\mathbb r$, with $\\alpha\\in [0,1]$"
   ]
  },
  {
   "cell_type": "markdown",
   "id": "a0b867f5-8dc1-40a3-b98e-23f2f1110c3c",
   "metadata": {},
   "source": [
    "## Read Data and Set Parameters"
   ]
  },
  {
   "cell_type": "code",
   "execution_count": null,
   "id": "2d79872e-e318-451c-a2b3-a821cbef3805",
   "metadata": {},
   "outputs": [],
   "source": [
    "trees = pd.read_csv(\"trees.csv\")\n",
    "trees.head()"
   ]
  },
  {
   "cell_type": "code",
   "execution_count": null,
   "id": "652a0436-227a-48aa-9306-5b3c267b94b4",
   "metadata": {},
   "outputs": [],
   "source": [
    "r = (trees.d/2).to_numpy() # DBH Divided by height\n",
    "h = trees.h.to_numpy()\n",
    "V = trees.v.to_numpy()"
   ]
  },
  {
   "cell_type": "code",
   "execution_count": null,
   "id": "e9b25b25-a3d2-4104-aa85-d847a03c6859",
   "metadata": {},
   "outputs": [],
   "source": [
    "a = cp.Variable(1, pos=True) # alpha parameter, target of interest"
   ]
  },
  {
   "cell_type": "markdown",
   "id": "28a758c6-f2bc-4227-9ee1-044300badb8d",
   "metadata": {},
   "source": [
    "## Optimization"
   ]
  },
  {
   "cell_type": "code",
   "execution_count": null,
   "id": "257c07fe-92e7-4d8f-af3f-b79a7b51ad8c",
   "metadata": {},
   "outputs": [],
   "source": [
    "np.random.seed(6596) # NLP CU Denver Course number used as seed\n",
    "\n",
    "objective=cp.sum_squares(V-h/3*np.pi*r**2*(1+a+a**2)) # Objective Function\n",
    "constraints = [a>= 0, a<=1]\n",
    "prob = cp.Problem(cp.Minimize(objective), constraints)\n",
    "prob.solve()"
   ]
  },
  {
   "cell_type": "markdown",
   "id": "7373ea05-4972-4c21-b593-45827ded9aa6",
   "metadata": {},
   "source": [
    "## Adding Species"
   ]
  },
  {
   "cell_type": "markdown",
   "id": "a1583fe5-de64-46b8-8d77-a7e02dc2c5b9",
   "metadata": {},
   "source": [
    "One-hot encoding for species type."
   ]
  },
  {
   "cell_type": "code",
   "execution_count": null,
   "id": "b3cccc33-007b-4e50-9278-05603941040f",
   "metadata": {},
   "outputs": [],
   "source": [
    "# Example data\n",
    "\n",
    "species = [\"cherry\", \"cherry\", \"teak\"]\n",
    "df = pd.DataFrame(species, columns=[\"Species\"])\n",
    "df.join(pd.get_dummies(df, columns=[\"Species\"], dtype=int)).rename(columns={\"Species_cherry\": \"ind1\", \"Species_teak\": \"ind2\"})"
   ]
  },
  {
   "cell_type": "markdown",
   "id": "9d862ced-b282-4460-94f4-be34353f13e8",
   "metadata": {},
   "source": [
    "$$\n",
    "\\text{Here is a WRONG way to represent an additive effect per species}\n",
    "$$\n",
    "\n",
    "$$\n",
    "\\begin{align}\n",
    "    \\min &\\sum_{i=1}^N \\left(V_i - \\frac{h_i}{3}\\pi R_i^2(1+\\alpha+\\alpha^2)-\\beta_i S_i\\right)^2\\\\\n",
    "    \\text{s.t. }&\\alpha\\in[0,1]\n",
    "\\end{align}\n",
    "$$"
   ]
  },
  {
   "cell_type": "code",
   "execution_count": null,
   "id": "873cf32c-201b-4466-8254-f26bf17e97b6",
   "metadata": {},
   "outputs": [],
   "source": []
  }
 ],
 "metadata": {
  "kernelspec": {
   "display_name": "Python 3 (ipykernel)",
   "language": "python",
   "name": "python3"
  },
  "language_info": {
   "codemirror_mode": {
    "name": "ipython",
    "version": 3
   },
   "file_extension": ".py",
   "mimetype": "text/x-python",
   "name": "python",
   "nbconvert_exporter": "python",
   "pygments_lexer": "ipython3",
   "version": "3.11.8"
  }
 },
 "nbformat": 4,
 "nbformat_minor": 5
}
