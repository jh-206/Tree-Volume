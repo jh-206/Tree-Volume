{
 "cells": [
  {
   "cell_type": "code",
   "execution_count": null,
   "id": "b96baf42-a11e-424c-9df8-233b68690efb",
   "metadata": {},
   "outputs": [],
   "source": [
    "import pandas as pd\n",
    "import numpy as np"
   ]
  },
  {
   "cell_type": "markdown",
   "id": "e10377cc-e017-4217-9875-112e2fcae6dc",
   "metadata": {},
   "source": []
  },
  {
   "cell_type": "markdown",
   "id": "a38042a7-2e5d-45e8-a4e0-9d73e1e11efc",
   "metadata": {},
   "source": [
    "Observed constants radius ($R_i$), height ($h_i$), and volume ($V_i$), for $i=1, ..., N$.\n",
    "\n",
    "We want to minimize the sum of squared residuals, so our loss function is:\n",
    "\n",
    "$$\n",
    "\\begin{align}\n",
    "    \\min &\\sum_{i=1}^N \\left(V_i - \\frac{h_i}{3}\\pi R_i^2(1+\\alpha+\\alpha^2)\\right)^2\\\\\n",
    "    \\text{s.t. }&\\alpha\\in[0,1]\n",
    "\\end{align}\n",
    "$$"
   ]
  },
  {
   "cell_type": "markdown",
   "id": "c20a764f-8065-41a7-856f-c73086c67857",
   "metadata": {},
   "source": [
    "To represent this in matrix notation, Let $V=\\begin{pmatrix}V_1 \\\\ V_2 \\\\ \\vdots \\\\ V_N\\end{pmatrix}$ and $hR^2 = \\begin{pmatrix}h_1R_1^2 \\\\ h_2R_2^2 \\\\ \\vdots \\\\ h_NR_N^2\\end{pmatrix}$\n",
    "\n",
    "Putting this all together, we have:\n",
    "\n",
    "$$\n",
    "\\begin{align}\n",
    "    \\min &\\|V - \\frac{h}{3}\\pi R^2(1+\\alpha+\\alpha^2)\\|_2^2 \\\\\n",
    "    \\text{s.t. }&0\\leq\\alpha\\leq 1\n",
    "\\end{align}\n",
    "$$\n",
    "\n",
    "Solutions $\\alpha\\in \\mathbb R$, with $\\alpha\\in [0,1]$"
   ]
  },
  {
   "cell_type": "code",
   "execution_count": null,
   "id": "3f9341de-4bf8-4fab-91c1-2664c636b5e1",
   "metadata": {},
   "outputs": [],
   "source": [
    "import numpy as np\n",
    "import pandas as pd"
   ]
  },
  {
   "cell_type": "markdown",
   "id": "e56d7814-431f-4afb-8cf0-dc9a83b66563",
   "metadata": {},
   "source": [
    "# Modeling Trees as Truncated Cones using Convex Optmization\n",
    "\n",
    "The purpose of this notebook is to fit the truncated cone model introduced in the previous notebook using convex optimization. "
   ]
  },
  {
   "cell_type": "markdown",
   "id": "a0b867f5-8dc1-40a3-b98e-23f2f1110c3c",
   "metadata": {},
   "source": [
    "## Read Data and Set Parameters"
   ]
  },
  {
   "cell_type": "code",
   "execution_count": null,
   "id": "2d79872e-e318-451c-a2b3-a821cbef3805",
   "metadata": {},
   "outputs": [],
   "source": [
    "pd.read_csv(\"trees.csv\").head()"
   ]
  },
  {
   "cell_type": "markdown",
   "id": "28a758c6-f2bc-4227-9ee1-044300badb8d",
   "metadata": {},
   "source": [
    "## Optimization"
   ]
  },
  {
   "cell_type": "markdown",
   "id": "7373ea05-4972-4c21-b593-45827ded9aa6",
   "metadata": {},
   "source": [
    "## Adding Species"
   ]
  },
  {
   "cell_type": "markdown",
   "id": "a1583fe5-de64-46b8-8d77-a7e02dc2c5b9",
   "metadata": {},
   "source": [
    "One-hot encoding for species type."
   ]
  },
  {
   "cell_type": "code",
   "execution_count": null,
   "id": "b3cccc33-007b-4e50-9278-05603941040f",
   "metadata": {},
   "outputs": [],
   "source": [
    "# Example data\n",
    "\n",
    "species = [\"cherry\", \"cherry\", \"teak\"]\n",
    "df = pd.DataFrame(species, columns=[\"Species\"])\n",
    "df.join(pd.get_dummies(df, columns=[\"Species\"], dtype=int)).rename(columns={\"Species_cherry\": \"ind1\", \"Species_teak\": \"ind2\"})"
   ]
  },
  {
   "cell_type": "markdown",
   "id": "9d862ced-b282-4460-94f4-be34353f13e8",
   "metadata": {},
   "source": [
    "$$\n",
    "\\text{Here is a WRONG way to represent an additive effect per species}\n",
    "$$\n",
    "\n",
    "$$\n",
    "\\begin{align}\n",
    "    \\min &\\sum_{i=1}^N \\left(V_i - \\frac{h_i}{3}\\pi R_i^2(1+\\alpha+\\alpha^2)-\\beta_i S_i\\right)^2\\\\\n",
    "    \\text{s.t. }&\\alpha\\in[0,1]\n",
    "\\end{align}\n",
    "$$"
   ]
  },
  {
   "cell_type": "code",
   "execution_count": null,
   "id": "873cf32c-201b-4466-8254-f26bf17e97b6",
   "metadata": {},
   "outputs": [],
   "source": []
  }
 ],
 "metadata": {
  "kernelspec": {
   "display_name": "Python 3 (ipykernel)",
   "language": "python",
   "name": "python3"
  },
  "language_info": {
   "codemirror_mode": {
    "name": "ipython",
    "version": 3
   },
   "file_extension": ".py",
   "mimetype": "text/x-python",
   "name": "python",
   "nbconvert_exporter": "python",
   "pygments_lexer": "ipython3",
   "version": "3.9.12"
  }
 },
 "nbformat": 4,
 "nbformat_minor": 5
}
