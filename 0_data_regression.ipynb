{
 "cells": [
  {
   "cell_type": "markdown",
   "id": "1382962c-5e76-4669-bd33-75ef0315db79",
   "metadata": {},
   "source": [
    "# Tree Dataset and Standard Regression Models\n",
    "\n",
    "## Intro\n",
    "\n",
    "It is a common practice in forestry to estimate tree volume from measurements of tree diameter (DBH) and height. This topic is of key interest to researchers and industry. In forestry, it is economically valuable to have a reliable estimate of usable timber in a stand of trees that might take years to mature. In researching climate change, it is valuable to know how much carbon trees can sequester, which is related to the volume of the tree. \n",
    "\n",
    "The purpose of this notebook is to examine the standard approach to regression modeling of tree volume using the Trees dataset, which is built-in with the R programming language. We will then introduce an alternative model from geometric first-principles and fit the model using resampling methods in statistics. "
   ]
  },
  {
   "cell_type": "markdown",
   "id": "a6b508df-8b56-491c-ae0a-b4e3cc90d42e",
   "metadata": {},
   "source": [
    "## Data Description"
   ]
  },
  {
   "cell_type": "code",
   "execution_count": null,
   "id": "2bba424a-920e-47c3-848e-99090ebb2ff8",
   "metadata": {},
   "outputs": [],
   "source": [
    "# Environment\n",
    "suppressMessages(suppressWarnings(library(dplyr)))\n",
    "suppressMessages(suppressWarnings(library(ggplot2)))\n",
    "suppressMessages(suppressWarnings(library(latex2exp)))\n",
    "\n",
    "# Read Data\n",
    "data(trees, package = \"datasets\")\n",
    "\n",
    "# Print dataframe\n",
    "trees |> head()"
   ]
  },
  {
   "cell_type": "code",
   "execution_count": null,
   "id": "27cbfbf1-2f0f-4d59-8d21-4ae1a4fa6dc7",
   "metadata": {},
   "outputs": [],
   "source": [
    "# Rename columns\n",
    "trees <- trees |> \n",
    "  rename(\n",
    "    d = Girth, h = Height, v = Volume\n",
    "  )\n",
    "\n",
    "# Transform Units\n",
    "trees <- trees |>\n",
    "  mutate(\n",
    "    d = d/12\n",
    "  )\n",
    "\n",
    "write.csv(trees, \"trees.csv\", row.names=FALSE)"
   ]
  },
  {
   "cell_type": "markdown",
   "id": "8afef64c-086c-4b60-bfbe-edd349ebb509",
   "metadata": {},
   "source": [
    "## Models of Tree Volume"
   ]
  },
  {
   "cell_type": "markdown",
   "id": "89396bdf-32b9-4326-b05a-d87bea183cd2",
   "metadata": {},
   "source": [
    "### Standard Linear Regression"
   ]
  },
  {
   "cell_type": "code",
   "execution_count": null,
   "id": "857c3092-e144-4013-961f-15211a2d8b0d",
   "metadata": {},
   "outputs": [],
   "source": [
    "lm_fit <- lm(v ~ d+h, data = trees)\n",
    "print(paste0('Loss = ', round(deviance(lm_fit), 2)))"
   ]
  },
  {
   "cell_type": "markdown",
   "id": "2382353f-9e70-465a-9286-a0b64ce716f8",
   "metadata": {},
   "source": [
    "### Modeling a Tree as a Cone"
   ]
  },
  {
   "cell_type": "markdown",
   "id": "25f55736-2f33-4d8e-aacf-dd47be034338",
   "metadata": {},
   "source": [
    "$$\n",
    "V = \\pi r^3\\frac{h}{3}\n",
    "$$"
   ]
  },
  {
   "cell_type": "code",
   "execution_count": null,
   "id": "fc1f0697-064e-4c60-aa4b-a7b7a4edfe9e",
   "metadata": {},
   "outputs": [],
   "source": [
    "trees$r = trees$d/2 # calculate radius \n",
    "r = trees$r\n",
    "h = trees$h\n",
    "\n",
    "v_cone = pi*r^2*h/3\n",
    "ss_cone = sum((v_cone-trees$v)^2)\n",
    "print(paste0('Loss = ', round(ss_cone, 2)))"
   ]
  },
  {
   "cell_type": "markdown",
   "id": "9b7f349c-2187-47b3-be1b-de06213e6ff7",
   "metadata": {},
   "source": [
    "That made things quite a bit worse. But trees are not perfect cones, and volume of the tree is typically calculated with the spindly top removed. Volume calculations are important to the commercial timber industry, and some studies refer to \"merchantable volume\". So we might be able to find a more realistic physical model."
   ]
  },
  {
   "cell_type": "markdown",
   "id": "f959ac05-4b47-43d4-aac3-df3034d8756a",
   "metadata": {},
   "source": [
    "### Modeling a Tree as a Truncated Cone\n",
    "\n",
    "A truncated cone is defined by a lower radius and an upper radius."
   ]
  },
  {
   "cell_type": "markdown",
   "id": "9d48ed47-7103-427a-8969-656f5f3eb025",
   "metadata": {},
   "source": [
    "$$\n",
    "V = \\frac{1}{3}\\pi (r_1^2+r_1r_2+r_2^2)h\n",
    "$$\n",
    "\n",
    "Where $r_1$ and $r_2$ are the radii of the base and top of the cone, respectively.\n",
    "\n",
    "We will consider the upper radius to be a fraction of the lower radius. So, we introduce a parameter $\\alpha$ where $r_2 = \\alpha r_1, \\text{ for }\\alpha \\in (0,1)$. We will use a grid search to find an alpha that minimizes the fitted sum of squares."
   ]
  },
  {
   "cell_type": "code",
   "execution_count": null,
   "id": "f2524df6-1cf2-45fd-9ac4-89d773cca20d",
   "metadata": {},
   "outputs": [],
   "source": [
    "alpha_grid = seq(from = 0.01, to = .99, length.out=100)\n",
    "\n",
    "ssa = rep(NA, length(alpha_grid))\n",
    "\n",
    "for(i in 1:length(alpha_grid)){\n",
    "  a = alpha_grid[i]\n",
    "  r2 = trees$r*a\n",
    "  v_a = 1/3*pi*(r^2+r*r2+r2^2)*h\n",
    "  ssa[i]=sum((trees$v - v_a)^2)\n",
    "}"
   ]
  },
  {
   "cell_type": "code",
   "execution_count": null,
   "id": "74572af5-f70b-4544-a93c-07b269e4e221",
   "metadata": {},
   "outputs": [],
   "source": []
  },
  {
   "cell_type": "code",
   "execution_count": null,
   "id": "75f9bf54-6b14-4bb6-a44d-e0ac98b6f491",
   "metadata": {},
   "outputs": [],
   "source": []
  },
  {
   "cell_type": "code",
   "execution_count": null,
   "id": "60704564-0289-47fc-8f37-dff2d3b4bb71",
   "metadata": {},
   "outputs": [],
   "source": [
    "df = data.frame(a = alpha_grid, ssa = ssa)\n",
    "ggplot(aes(x=alpha_grid, y = log(ssa)), data=df) +\n",
    "  geom_line()+\n",
    "  geom_point(\n",
    "    aes(\n",
    "      x = alpha_grid[which.min(ssa)], \n",
    "      y = log(min(ssa)))\n",
    "    ) +\n",
    "  labs(x = expression(alpha), y = 'Log Loss')+\n",
    "  annotate('text', x = alpha_grid[which.min(ssa)]-.04,y = log(min(ssa))-.5, label=paste0(expression(alpha)), parse=T)+\n",
    "  annotate('text', x = alpha_grid[which.min(ssa)]+.02,y = log(min(ssa))-.5, label=paste0(' = ', round(alpha_grid[which.min(ssa)], 3)))+\n",
    "  ylim(4, 12)+\n",
    "  theme_bw()"
   ]
  },
  {
   "cell_type": "code",
   "execution_count": null,
   "id": "2d2edf77-768b-4bd2-bf08-5dee014cc715",
   "metadata": {},
   "outputs": [],
   "source": [
    "a <- alpha_grid[which.min(ssa)]\n",
    "r = trees$r\n",
    "h = trees$h\n",
    "r2 <- r*a\n",
    "v_a <- 1/3*pi*(r^2+r*r2+r2^2)*h\n",
    "ssa <- sum((trees$v-v_a)^2)\n",
    "\n",
    "print(paste0('Alpha = ', round(a,2))); print(paste0('Loss = ', round(ssa,2)))"
   ]
  },
  {
   "cell_type": "code",
   "execution_count": null,
   "id": "92f77350-961d-4f32-ba1a-99a412b83674",
   "metadata": {},
   "outputs": [],
   "source": [
    "df = data.frame(\n",
    "  v = c(trees$v, trees$v),\n",
    "  pred = c(lm_fit$fitted.values, v_a),\n",
    "  model = c(rep(\"lm\", nrow(trees)), rep(\"cone\", nrow(trees)))\n",
    ")\n",
    "df |>\n",
    "  ggplot(aes(x=v, y=pred, color=model))+\n",
    "  geom_abline(slope=1, intercept = 0, lty=2, color=\"grey\")+\n",
    "  geom_point(alpha=.5)+\n",
    "  labs(x=\"Tree Volume\", y=\"Predicted Volume\")+\n",
    "  theme_minimal()"
   ]
  },
  {
   "cell_type": "markdown",
   "id": "87e2c126-b8b0-495d-9ad8-a57dffcae262",
   "metadata": {},
   "source": [
    "Paper: https://www.researchgate.net/publication/318780019_Modeling_Height-Diameter_Relationship_and_Volume_of_Teak_Tectona_grandis_L_F_in_Central_Lowlands_of_Nepal\n",
    "\n",
    "$$\n",
    "V = \\beta_0+\\beta_1\\cdot d+\\beta_2\\cdot d^2\\cdot h\n",
    "$$"
   ]
  },
  {
   "cell_type": "code",
   "execution_count": null,
   "id": "d4822382-c07f-46a5-b9cc-dee93d836784",
   "metadata": {},
   "outputs": [],
   "source": [
    "trees$d2h <- trees$d^2*trees$h\n",
    "fit2 <- lm(v~d+d2h, data=trees)\n",
    "deviance(fit2)"
   ]
  },
  {
   "cell_type": "markdown",
   "id": "16d4e79c-838d-482d-99bb-7e6d8653914f",
   "metadata": {},
   "source": [
    "#### Quantifying Uncertainty\n",
    "\n",
    "We employ a Monte Carlo method to estimate the uncertainty in the $\\alpha$ parameter. For $N$ bootstrap samples, find $\\alpha_n$ for each $n\\in N$, then calculate quantiles based on this set of values."
   ]
  },
  {
   "cell_type": "code",
   "execution_count": null,
   "id": "e3cecc15-866c-45f1-9a57-94e68035d179",
   "metadata": {},
   "outputs": [],
   "source": [
    "set.seed(87337) # rand num: \"trees\" in text\n",
    "nreps <- 10000\n",
    "alphas <- rep(NA, nreps)\n",
    "for(j in 1:nreps){\n",
    "  trees_boot <- trees[\n",
    "      sample(1:nrow(trees), replace = T),\n",
    "    ]\n",
    "  for(i in 1:length(alpha_grid)){\n",
    "    a = alpha_grid[i]\n",
    "    h = trees_boot$h\n",
    "    r = trees_boot$r\n",
    "    r2 = r*a\n",
    "    v_a = 1/3*pi*(r^2+r*r2+r2^2)*h\n",
    "    ssa[i]=(trees_boot$v - v_a)%*%(trees_boot$v - v_a)\n",
    "  }\n",
    "  alphas[j] <- alpha_grid[which.min(ssa)]\n",
    "}\n",
    "\n",
    "hist(alphas)"
   ]
  },
  {
   "cell_type": "code",
   "execution_count": null,
   "id": "91d49c14-d438-439d-ba6d-8be755229039",
   "metadata": {},
   "outputs": [],
   "source": []
  },
  {
   "cell_type": "code",
   "execution_count": null,
   "id": "3050a6a7-042f-4d02-aa2d-13cdfe01421c",
   "metadata": {},
   "outputs": [],
   "source": []
  }
 ],
 "metadata": {
  "kernelspec": {
   "display_name": "R",
   "language": "R",
   "name": "ir"
  },
  "language_info": {
   "codemirror_mode": "r",
   "file_extension": ".r",
   "mimetype": "text/x-r-source",
   "name": "R",
   "pygments_lexer": "r",
   "version": "4.2.0"
  }
 },
 "nbformat": 4,
 "nbformat_minor": 5
}
