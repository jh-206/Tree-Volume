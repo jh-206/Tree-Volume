{
 "cells": [
  {
   "cell_type": "markdown",
   "id": "e10377cc-e017-4217-9875-112e2fcae6dc",
   "metadata": {},
   "source": []
  },
  {
   "cell_type": "markdown",
   "id": "a38042a7-2e5d-45e8-a4e0-9d73e1e11efc",
   "metadata": {},
   "source": [
    "Observed constants radius ($R_i$), height ($h_i$), and volume ($V_i$), for $i=1, ..., N$.\n",
    "\n",
    "We want to minimize the sum of squared residuals, so our loss function is:\n",
    "\n",
    "$$\n",
    "\\begin{align}\n",
    "    \\min \\sum_{i=1}^N \\left(V_i - \\frac{h_i}{3}\\pi R_i^2(1+\\alpha+\\alpha^2)\\right)^2\n",
    "\\end{align}\n",
    "$$\n",
    "\n",
    "Subject to the constraint that $\\alpha\\in[0,1]$.\n",
    "\n",
    "Putting this all together, we have:\n",
    "\n",
    "$$\n",
    "\\begin{align}\n",
    "    \\min \\|V_i\\|\n",
    "\\end{align}\n",
    "$$\n",
    "\n",
    "Solutions $\\alpha\\in \\mathbb R$, with $\\alpha\\in [0,1]$"
   ]
  },
  {
   "cell_type": "code",
   "execution_count": null,
   "id": "b3cccc33-007b-4e50-9278-05603941040f",
   "metadata": {},
   "outputs": [],
   "source": []
  },
  {
   "cell_type": "code",
   "execution_count": null,
   "id": "4d1463b4-45f1-45ae-804f-6d420fb69c18",
   "metadata": {},
   "outputs": [],
   "source": []
  }
 ],
 "metadata": {
  "kernelspec": {
   "display_name": "Python 3 (ipykernel)",
   "language": "python",
   "name": "python3"
  },
  "language_info": {
   "codemirror_mode": {
    "name": "ipython",
    "version": 3
   },
   "file_extension": ".py",
   "mimetype": "text/x-python",
   "name": "python",
   "nbconvert_exporter": "python",
   "pygments_lexer": "ipython3",
   "version": "3.9.12"
  }
 },
 "nbformat": 4,
 "nbformat_minor": 5
}
